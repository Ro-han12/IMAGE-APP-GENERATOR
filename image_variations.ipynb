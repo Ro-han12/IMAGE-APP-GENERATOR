{
 "cells": [
  {
   "cell_type": "code",
   "execution_count": 2,
   "metadata": {},
   "outputs": [
    {
     "name": "stdout",
     "output_type": "stream",
     "text": [
      "Collecting sentencepiece\n",
      "  Downloading sentencepiece-0.2.0-cp39-cp39-macosx_11_0_arm64.whl.metadata (7.7 kB)\n",
      "Downloading sentencepiece-0.2.0-cp39-cp39-macosx_11_0_arm64.whl (1.2 MB)\n",
      "\u001b[2K   \u001b[90m━━━━━━━━━━━━━━━━━━━━━━━━━━━━━━━━━━━━━━━━\u001b[0m \u001b[32m1.2/1.2 MB\u001b[0m \u001b[31m13.9 MB/s\u001b[0m eta \u001b[36m0:00:00\u001b[0ma \u001b[36m0:00:01\u001b[0m\n",
      "\u001b[?25hInstalling collected packages: sentencepiece\n",
      "Successfully installed sentencepiece-0.2.0\n"
     ]
    }
   ],
   "source": [
    "!pip install sentencepiece"
   ]
  },
  {
   "cell_type": "code",
   "execution_count": 3,
   "metadata": {},
   "outputs": [
    {
     "name": "stdout",
     "output_type": "stream",
     "text": [
      "Requirement already satisfied: diffusers in /Users/rohansridhar/miniforge3/envs/proj/lib/python3.9/site-packages (0.10.2)\n",
      "Collecting diffusers\n",
      "  Downloading diffusers-0.28.0-py3-none-any.whl.metadata (19 kB)\n",
      "Requirement already satisfied: transformers in /Users/rohansridhar/miniforge3/envs/proj/lib/python3.9/site-packages (4.41.2)\n",
      "Requirement already satisfied: accelerate in /Users/rohansridhar/miniforge3/envs/proj/lib/python3.9/site-packages (0.30.1)\n",
      "Requirement already satisfied: importlib-metadata in /Users/rohansridhar/miniforge3/envs/proj/lib/python3.9/site-packages (from diffusers) (7.1.0)\n",
      "Requirement already satisfied: filelock in /Users/rohansridhar/miniforge3/envs/proj/lib/python3.9/site-packages (from diffusers) (3.14.0)\n",
      "Requirement already satisfied: huggingface-hub>=0.20.2 in /Users/rohansridhar/miniforge3/envs/proj/lib/python3.9/site-packages (from diffusers) (0.23.2)\n",
      "Requirement already satisfied: numpy in /Users/rohansridhar/miniforge3/envs/proj/lib/python3.9/site-packages (from diffusers) (1.26.4)\n",
      "Requirement already satisfied: regex!=2019.12.17 in /Users/rohansridhar/miniforge3/envs/proj/lib/python3.9/site-packages (from diffusers) (2024.5.15)\n",
      "Requirement already satisfied: requests in /Users/rohansridhar/miniforge3/envs/proj/lib/python3.9/site-packages (from diffusers) (2.32.2)\n",
      "Requirement already satisfied: safetensors>=0.3.1 in /Users/rohansridhar/miniforge3/envs/proj/lib/python3.9/site-packages (from diffusers) (0.4.3)\n",
      "Requirement already satisfied: Pillow in /Users/rohansridhar/miniforge3/envs/proj/lib/python3.9/site-packages (from diffusers) (10.3.0)\n",
      "Requirement already satisfied: packaging>=20.0 in /Users/rohansridhar/miniforge3/envs/proj/lib/python3.9/site-packages (from transformers) (24.0)\n",
      "Requirement already satisfied: pyyaml>=5.1 in /Users/rohansridhar/miniforge3/envs/proj/lib/python3.9/site-packages (from transformers) (6.0.1)\n",
      "Requirement already satisfied: tokenizers<0.20,>=0.19 in /Users/rohansridhar/miniforge3/envs/proj/lib/python3.9/site-packages (from transformers) (0.19.1)\n",
      "Requirement already satisfied: tqdm>=4.27 in /Users/rohansridhar/miniforge3/envs/proj/lib/python3.9/site-packages (from transformers) (4.66.4)\n",
      "Requirement already satisfied: psutil in /Users/rohansridhar/miniforge3/envs/proj/lib/python3.9/site-packages (from accelerate) (5.9.0)\n",
      "Requirement already satisfied: torch>=1.10.0 in /Users/rohansridhar/miniforge3/envs/proj/lib/python3.9/site-packages (from accelerate) (2.3.0)\n",
      "Requirement already satisfied: fsspec>=2023.5.0 in /Users/rohansridhar/miniforge3/envs/proj/lib/python3.9/site-packages (from huggingface-hub>=0.20.2->diffusers) (2024.5.0)\n",
      "Requirement already satisfied: typing-extensions>=3.7.4.3 in /Users/rohansridhar/miniforge3/envs/proj/lib/python3.9/site-packages (from huggingface-hub>=0.20.2->diffusers) (4.11.0)\n",
      "Requirement already satisfied: sympy in /Users/rohansridhar/miniforge3/envs/proj/lib/python3.9/site-packages (from torch>=1.10.0->accelerate) (1.12.1)\n",
      "Requirement already satisfied: networkx in /Users/rohansridhar/miniforge3/envs/proj/lib/python3.9/site-packages (from torch>=1.10.0->accelerate) (3.2.1)\n",
      "Requirement already satisfied: jinja2 in /Users/rohansridhar/miniforge3/envs/proj/lib/python3.9/site-packages (from torch>=1.10.0->accelerate) (3.1.4)\n",
      "Requirement already satisfied: zipp>=0.5 in /Users/rohansridhar/miniforge3/envs/proj/lib/python3.9/site-packages (from importlib-metadata->diffusers) (3.18.2)\n",
      "Requirement already satisfied: charset-normalizer<4,>=2 in /Users/rohansridhar/miniforge3/envs/proj/lib/python3.9/site-packages (from requests->diffusers) (3.3.2)\n",
      "Requirement already satisfied: idna<4,>=2.5 in /Users/rohansridhar/miniforge3/envs/proj/lib/python3.9/site-packages (from requests->diffusers) (3.7)\n",
      "Requirement already satisfied: urllib3<3,>=1.21.1 in /Users/rohansridhar/miniforge3/envs/proj/lib/python3.9/site-packages (from requests->diffusers) (2.2.1)\n",
      "Requirement already satisfied: certifi>=2017.4.17 in /Users/rohansridhar/miniforge3/envs/proj/lib/python3.9/site-packages (from requests->diffusers) (2024.2.2)\n",
      "Requirement already satisfied: MarkupSafe>=2.0 in /Users/rohansridhar/miniforge3/envs/proj/lib/python3.9/site-packages (from jinja2->torch>=1.10.0->accelerate) (2.1.5)\n",
      "Requirement already satisfied: mpmath<1.4.0,>=1.1.0 in /Users/rohansridhar/miniforge3/envs/proj/lib/python3.9/site-packages (from sympy->torch>=1.10.0->accelerate) (1.3.0)\n",
      "Downloading diffusers-0.28.0-py3-none-any.whl (2.2 MB)\n",
      "\u001b[2K   \u001b[90m━━━━━━━━━━━━━━━━━━━━━━━━━━━━━━━━━━━━━━━━\u001b[0m \u001b[32m2.2/2.2 MB\u001b[0m \u001b[31m16.6 MB/s\u001b[0m eta \u001b[36m0:00:00\u001b[0ma \u001b[36m0:00:01\u001b[0m\n",
      "\u001b[?25hInstalling collected packages: diffusers\n",
      "  Attempting uninstall: diffusers\n",
      "    Found existing installation: diffusers 0.10.2\n",
      "    Uninstalling diffusers-0.10.2:\n",
      "      Successfully uninstalled diffusers-0.10.2\n",
      "Successfully installed diffusers-0.28.0\n"
     ]
    }
   ],
   "source": [
    "!pip install --upgrade diffusers transformers accelerate"
   ]
  },
  {
   "cell_type": "code",
   "execution_count": 4,
   "metadata": {},
   "outputs": [
    {
     "name": "stdout",
     "output_type": "stream",
     "text": [
      "Requirement already satisfied: transformers in /Users/rohansridhar/miniforge3/envs/proj/lib/python3.9/site-packages (4.41.2)\n",
      "Requirement already satisfied: filelock in /Users/rohansridhar/miniforge3/envs/proj/lib/python3.9/site-packages (from transformers) (3.14.0)\n",
      "Requirement already satisfied: huggingface-hub<1.0,>=0.23.0 in /Users/rohansridhar/miniforge3/envs/proj/lib/python3.9/site-packages (from transformers) (0.23.2)\n",
      "Requirement already satisfied: numpy>=1.17 in /Users/rohansridhar/miniforge3/envs/proj/lib/python3.9/site-packages (from transformers) (1.26.4)\n",
      "Requirement already satisfied: packaging>=20.0 in /Users/rohansridhar/miniforge3/envs/proj/lib/python3.9/site-packages (from transformers) (24.0)\n",
      "Requirement already satisfied: pyyaml>=5.1 in /Users/rohansridhar/miniforge3/envs/proj/lib/python3.9/site-packages (from transformers) (6.0.1)\n",
      "Requirement already satisfied: regex!=2019.12.17 in /Users/rohansridhar/miniforge3/envs/proj/lib/python3.9/site-packages (from transformers) (2024.5.15)\n",
      "Requirement already satisfied: requests in /Users/rohansridhar/miniforge3/envs/proj/lib/python3.9/site-packages (from transformers) (2.32.2)\n",
      "Requirement already satisfied: tokenizers<0.20,>=0.19 in /Users/rohansridhar/miniforge3/envs/proj/lib/python3.9/site-packages (from transformers) (0.19.1)\n",
      "Requirement already satisfied: safetensors>=0.4.1 in /Users/rohansridhar/miniforge3/envs/proj/lib/python3.9/site-packages (from transformers) (0.4.3)\n",
      "Requirement already satisfied: tqdm>=4.27 in /Users/rohansridhar/miniforge3/envs/proj/lib/python3.9/site-packages (from transformers) (4.66.4)\n",
      "Requirement already satisfied: fsspec>=2023.5.0 in /Users/rohansridhar/miniforge3/envs/proj/lib/python3.9/site-packages (from huggingface-hub<1.0,>=0.23.0->transformers) (2024.5.0)\n",
      "Requirement already satisfied: typing-extensions>=3.7.4.3 in /Users/rohansridhar/miniforge3/envs/proj/lib/python3.9/site-packages (from huggingface-hub<1.0,>=0.23.0->transformers) (4.11.0)\n",
      "Requirement already satisfied: charset-normalizer<4,>=2 in /Users/rohansridhar/miniforge3/envs/proj/lib/python3.9/site-packages (from requests->transformers) (3.3.2)\n",
      "Requirement already satisfied: idna<4,>=2.5 in /Users/rohansridhar/miniforge3/envs/proj/lib/python3.9/site-packages (from requests->transformers) (3.7)\n",
      "Requirement already satisfied: urllib3<3,>=1.21.1 in /Users/rohansridhar/miniforge3/envs/proj/lib/python3.9/site-packages (from requests->transformers) (2.2.1)\n",
      "Requirement already satisfied: certifi>=2017.4.17 in /Users/rohansridhar/miniforge3/envs/proj/lib/python3.9/site-packages (from requests->transformers) (2024.2.2)\n"
     ]
    }
   ],
   "source": [
    "!pip install transformers"
   ]
  },
  {
   "cell_type": "code",
   "execution_count": 2,
   "metadata": {},
   "outputs": [
    {
     "data": {
      "application/vnd.jupyter.widget-view+json": {
       "model_id": "419e67b051d44371aca88e72b73eec00",
       "version_major": 2,
       "version_minor": 0
      },
      "text/plain": [
       "Loading pipeline components...:   0%|          | 0/7 [00:00<?, ?it/s]"
      ]
     },
     "metadata": {},
     "output_type": "display_data"
    },
    {
     "name": "stderr",
     "output_type": "stream",
     "text": [
      "Pipelines loaded with `dtype=torch.float16` cannot run with `cpu` device. It is not recommended to move them to `cpu` as running them will fail. Please make sure to use an accelerator to run the pipeline in inference, due to the lack of support for`float16` operations on this device in PyTorch. Please, remove the `torch_dtype=torch.float16` argument, or use another device for inference.\n",
      "Pipelines loaded with `dtype=torch.float16` cannot run with `cpu` device. It is not recommended to move them to `cpu` as running them will fail. Please make sure to use an accelerator to run the pipeline in inference, due to the lack of support for`float16` operations on this device in PyTorch. Please, remove the `torch_dtype=torch.float16` argument, or use another device for inference.\n",
      "Pipelines loaded with `dtype=torch.float16` cannot run with `cpu` device. It is not recommended to move them to `cpu` as running them will fail. Please make sure to use an accelerator to run the pipeline in inference, due to the lack of support for`float16` operations on this device in PyTorch. Please, remove the `torch_dtype=torch.float16` argument, or use another device for inference.\n",
      "Pipelines loaded with `dtype=torch.float16` cannot run with `cpu` device. It is not recommended to move them to `cpu` as running them will fail. Please make sure to use an accelerator to run the pipeline in inference, due to the lack of support for`float16` operations on this device in PyTorch. Please, remove the `torch_dtype=torch.float16` argument, or use another device for inference.\n"
     ]
    },
    {
     "data": {
      "application/vnd.jupyter.widget-view+json": {
       "model_id": "5de7b0d031a54219916bfb8e883d3515",
       "version_major": 2,
       "version_minor": 0
      },
      "text/plain": [
       "  0%|          | 0/50 [00:00<?, ?it/s]"
      ]
     },
     "metadata": {},
     "output_type": "display_data"
    }
   ],
   "source": [
    "import torch\n",
    "from diffusers import StableDiffusionPipeline\n",
    "\n",
    "# Set the device to 'cpu' for Mac M1\n",
    "device = 'cpu'\n",
    "\n",
    "# Load the diffusion model\n",
    "pipe = StableDiffusionPipeline.from_pretrained('runwayml/stable-diffusion-v1-5', torch_dtype=torch.float16)\n",
    "pipe = pipe.to(device)\n",
    "\n",
    "# Set the prompt\n",
    "prompt = 'cat'\n",
    "\n",
    "# Generate the image\n",
    "image = pipe(prompt).images[0]\n"
   ]
  },
  {
   "cell_type": "code",
   "execution_count": null,
   "metadata": {},
   "outputs": [],
   "source": []
  }
 ],
 "metadata": {
  "kernelspec": {
   "display_name": "google",
   "language": "python",
   "name": "python3"
  },
  "language_info": {
   "codemirror_mode": {
    "name": "ipython",
    "version": 3
   },
   "file_extension": ".py",
   "mimetype": "text/x-python",
   "name": "python",
   "nbconvert_exporter": "python",
   "pygments_lexer": "ipython3",
   "version": "3.9.19"
  }
 },
 "nbformat": 4,
 "nbformat_minor": 2
}
