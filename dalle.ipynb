{
 "cells": [
  {
   "cell_type": "code",
   "execution_count": 1,
   "metadata": {},
   "outputs": [
    {
     "ename": "ImportError",
     "evalue": "cannot import name 'OpenAI' from 'openai' (/Users/rohansridhar/miniforge3/envs/proj/lib/python3.9/site-packages/openai/__init__.py)",
     "output_type": "error",
     "traceback": [
      "\u001b[0;31m---------------------------------------------------------------------------\u001b[0m",
      "\u001b[0;31mImportError\u001b[0m                               Traceback (most recent call last)",
      "\u001b[1;32m/Users/rohansridhar/Desktop/IMAGE-GEN/IMAGE-APP-GENERATOR/dalle.ipynb Cell 1\u001b[0m line \u001b[0;36m1\n\u001b[0;32m----> <a href='vscode-notebook-cell:/Users/rohansridhar/Desktop/IMAGE-GEN/IMAGE-APP-GENERATOR/dalle.ipynb#W0sZmlsZQ%3D%3D?line=0'>1</a>\u001b[0m \u001b[39mfrom\u001b[39;00m \u001b[39mopenai\u001b[39;00m \u001b[39mimport\u001b[39;00m OpenAI\n\u001b[1;32m      <a href='vscode-notebook-cell:/Users/rohansridhar/Desktop/IMAGE-GEN/IMAGE-APP-GENERATOR/dalle.ipynb#W0sZmlsZQ%3D%3D?line=1'>2</a>\u001b[0m client \u001b[39m=\u001b[39m OpenAI()\n\u001b[1;32m      <a href='vscode-notebook-cell:/Users/rohansridhar/Desktop/IMAGE-GEN/IMAGE-APP-GENERATOR/dalle.ipynb#W0sZmlsZQ%3D%3D?line=3'>4</a>\u001b[0m response \u001b[39m=\u001b[39m client\u001b[39m.\u001b[39mimages\u001b[39m.\u001b[39mgenerate(\n\u001b[1;32m      <a href='vscode-notebook-cell:/Users/rohansridhar/Desktop/IMAGE-GEN/IMAGE-APP-GENERATOR/dalle.ipynb#W0sZmlsZQ%3D%3D?line=4'>5</a>\u001b[0m   model\u001b[39m=\u001b[39m\u001b[39m\"\u001b[39m\u001b[39mdall-e-3\u001b[39m\u001b[39m\"\u001b[39m,\n\u001b[1;32m      <a href='vscode-notebook-cell:/Users/rohansridhar/Desktop/IMAGE-GEN/IMAGE-APP-GENERATOR/dalle.ipynb#W0sZmlsZQ%3D%3D?line=5'>6</a>\u001b[0m   prompt\u001b[39m=\u001b[39m\u001b[39m\"\u001b[39m\u001b[39ma white siamese cat\u001b[39m\u001b[39m\"\u001b[39m,\n\u001b[0;32m   (...)\u001b[0m\n\u001b[1;32m      <a href='vscode-notebook-cell:/Users/rohansridhar/Desktop/IMAGE-GEN/IMAGE-APP-GENERATOR/dalle.ipynb#W0sZmlsZQ%3D%3D?line=8'>9</a>\u001b[0m   n\u001b[39m=\u001b[39m\u001b[39m1\u001b[39m,\n\u001b[1;32m     <a href='vscode-notebook-cell:/Users/rohansridhar/Desktop/IMAGE-GEN/IMAGE-APP-GENERATOR/dalle.ipynb#W0sZmlsZQ%3D%3D?line=9'>10</a>\u001b[0m )\n",
      "\u001b[0;31mImportError\u001b[0m: cannot import name 'OpenAI' from 'openai' (/Users/rohansridhar/miniforge3/envs/proj/lib/python3.9/site-packages/openai/__init__.py)"
     ]
    }
   ],
   "source": [
    "from openai import OpenAI\n",
    "client = OpenAI()\n",
    "\n",
    "response = client.images.generate(\n",
    "  model=\"dall-e-3\",\n",
    "  prompt=\"a white siamese cat\",\n",
    "  size=\"1024x1024\",\n",
    "  quality=\"standard\",\n",
    "  n=1,\n",
    ")\n",
    "\n",
    "image_url = response.data[0].url"
   ]
  },
  {
   "cell_type": "code",
   "execution_count": null,
   "metadata": {},
   "outputs": [],
   "source": []
  }
 ],
 "metadata": {
  "kernelspec": {
   "display_name": "proj",
   "language": "python",
   "name": "python3"
  },
  "language_info": {
   "codemirror_mode": {
    "name": "ipython",
    "version": 3
   },
   "file_extension": ".py",
   "mimetype": "text/x-python",
   "name": "python",
   "nbconvert_exporter": "python",
   "pygments_lexer": "ipython3",
   "version": "3.9.19"
  }
 },
 "nbformat": 4,
 "nbformat_minor": 2
}
